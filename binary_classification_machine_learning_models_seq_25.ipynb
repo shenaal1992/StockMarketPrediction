{
  "nbformat": 4,
  "nbformat_minor": 0,
  "metadata": {
    "colab": {
      "provenance": [],
      "authorship_tag": "ABX9TyNu+1d/WFeQbDJ4kBRqV4l0",
      "include_colab_link": true
    },
    "kernelspec": {
      "name": "python3",
      "display_name": "Python 3"
    },
    "language_info": {
      "name": "python"
    }
  },
  "cells": [
    {
      "cell_type": "markdown",
      "metadata": {
        "id": "view-in-github",
        "colab_type": "text"
      },
      "source": [
        "<a href=\"https://colab.research.google.com/github/shenaal1992/StockMarketPrediction/blob/main/binary_classification_machine_learning_models_seq_25.ipynb\" target=\"_parent\"><img src=\"https://colab.research.google.com/assets/colab-badge.svg\" alt=\"Open In Colab\"/></a>"
      ]
    },
    {
      "cell_type": "markdown",
      "source": [
        "# This code shows Stock market values prediction for Binary values with input seq length = 25"
      ],
      "metadata": {
        "id": "ETbuqRzGrSaT"
      }
    },
    {
      "cell_type": "code",
      "execution_count": null,
      "metadata": {
        "id": "SrvTt8_JuaY4"
      },
      "outputs": [],
      "source": [
        "# Import the libraries\n",
        "import math\n",
        "from pandas_datareader import data as web\n",
        "import numpy as np\n",
        "import pandas as pd\n",
        "from sklearn.preprocessing import MinMaxScaler\n",
        "import matplotlib.pyplot as plt\n",
        "plt.style.use('fivethirtyeight')\n",
        "import os\n",
        "\n"
      ]
    },
    {
      "cell_type": "code",
      "source": [
        "!pip install yfinance"
      ],
      "metadata": {
        "colab": {
          "base_uri": "https://localhost:8080/"
        },
        "id": "vIe2QH9fvPZJ",
        "outputId": "fc3394f8-1ed8-48e1-b8bc-eaa798ad8bda"
      },
      "execution_count": null,
      "outputs": [
        {
          "output_type": "stream",
          "name": "stdout",
          "text": [
            "Requirement already satisfied: yfinance in /usr/local/lib/python3.10/dist-packages (0.2.22)\n",
            "Requirement already satisfied: pandas>=1.3.0 in /usr/local/lib/python3.10/dist-packages (from yfinance) (1.5.3)\n",
            "Requirement already satisfied: numpy>=1.16.5 in /usr/local/lib/python3.10/dist-packages (from yfinance) (1.22.4)\n",
            "Requirement already satisfied: requests>=2.26 in /usr/local/lib/python3.10/dist-packages (from yfinance) (2.27.1)\n",
            "Requirement already satisfied: multitasking>=0.0.7 in /usr/local/lib/python3.10/dist-packages (from yfinance) (0.0.11)\n",
            "Requirement already satisfied: lxml>=4.9.1 in /usr/local/lib/python3.10/dist-packages (from yfinance) (4.9.3)\n",
            "Requirement already satisfied: appdirs>=1.4.4 in /usr/local/lib/python3.10/dist-packages (from yfinance) (1.4.4)\n",
            "Requirement already satisfied: pytz>=2022.5 in /usr/local/lib/python3.10/dist-packages (from yfinance) (2022.7.1)\n",
            "Requirement already satisfied: frozendict>=2.3.4 in /usr/local/lib/python3.10/dist-packages (from yfinance) (2.3.8)\n",
            "Requirement already satisfied: beautifulsoup4>=4.11.1 in /usr/local/lib/python3.10/dist-packages (from yfinance) (4.11.2)\n",
            "Requirement already satisfied: html5lib>=1.1 in /usr/local/lib/python3.10/dist-packages (from yfinance) (1.1)\n",
            "Requirement already satisfied: soupsieve>1.2 in /usr/local/lib/python3.10/dist-packages (from beautifulsoup4>=4.11.1->yfinance) (2.4.1)\n",
            "Requirement already satisfied: six>=1.9 in /usr/local/lib/python3.10/dist-packages (from html5lib>=1.1->yfinance) (1.16.0)\n",
            "Requirement already satisfied: webencodings in /usr/local/lib/python3.10/dist-packages (from html5lib>=1.1->yfinance) (0.5.1)\n",
            "Requirement already satisfied: python-dateutil>=2.8.1 in /usr/local/lib/python3.10/dist-packages (from pandas>=1.3.0->yfinance) (2.8.2)\n",
            "Requirement already satisfied: urllib3<1.27,>=1.21.1 in /usr/local/lib/python3.10/dist-packages (from requests>=2.26->yfinance) (1.26.16)\n",
            "Requirement already satisfied: certifi>=2017.4.17 in /usr/local/lib/python3.10/dist-packages (from requests>=2.26->yfinance) (2023.5.7)\n",
            "Requirement already satisfied: charset-normalizer~=2.0.0 in /usr/local/lib/python3.10/dist-packages (from requests>=2.26->yfinance) (2.0.12)\n",
            "Requirement already satisfied: idna<4,>=2.5 in /usr/local/lib/python3.10/dist-packages (from requests>=2.26->yfinance) (3.4)\n"
          ]
        }
      ]
    },
    {
      "cell_type": "code",
      "source": [
        "import yfinance as fyf\n",
        "fyf.pdr_override() # <-- Here is the fix\n",
        "\n",
        "from datetime import datetime\n",
        "start_date = datetime(2012,1,1)\n",
        "end_date = datetime(2019,12,17)\n",
        "\n",
        "#Get the stock quote\n",
        "df = web.DataReader('AAPL', start = start_date, end = end_date)\n",
        "\n",
        "#Show the data\n",
        "df\n"
      ],
      "metadata": {
        "colab": {
          "base_uri": "https://localhost:8080/",
          "height": 472
        },
        "id": "nSBP2vr5vSjM",
        "outputId": "6f05d300-0cf0-495d-9694-83ccc20de22d"
      },
      "execution_count": null,
      "outputs": [
        {
          "output_type": "stream",
          "name": "stdout",
          "text": [
            "\r[*********************100%***********************]  1 of 1 completed\n"
          ]
        },
        {
          "output_type": "execute_result",
          "data": {
            "text/plain": [
              "                 Open       High        Low      Close  Adj Close     Volume\n",
              "Date                                                                        \n",
              "2012-01-03  14.621429  14.732143  14.607143  14.686786  12.482925  302220800\n",
              "2012-01-04  14.642857  14.810000  14.617143  14.765714  12.550014  260022000\n",
              "2012-01-05  14.819643  14.948214  14.738214  14.929643  12.689342  271269600\n",
              "2012-01-06  14.991786  15.098214  14.972143  15.085714  12.821990  318292800\n",
              "2012-01-09  15.196429  15.276786  15.048214  15.061786  12.801655  394024400\n",
              "...               ...        ...        ...        ...        ...        ...\n",
              "2019-12-10  67.150002  67.517502  66.464996  67.120003  65.565010   90420400\n",
              "2019-12-11  67.202499  67.775002  67.125000  67.692497  66.124260   78756800\n",
              "2019-12-12  66.945000  68.139999  66.830002  67.864998  66.292763  137310400\n",
              "2019-12-13  67.864998  68.824997  67.732498  68.787498  67.193886  133587600\n",
              "2019-12-16  69.250000  70.197502  69.245003  69.964996  68.344109  128186000\n",
              "\n",
              "[2002 rows x 6 columns]"
            ],
            "text/html": [
              "\n",
              "\n",
              "  <div id=\"df-f7023bf9-7c9d-44cf-8556-18b74ec8a0eb\">\n",
              "    <div class=\"colab-df-container\">\n",
              "      <div>\n",
              "<style scoped>\n",
              "    .dataframe tbody tr th:only-of-type {\n",
              "        vertical-align: middle;\n",
              "    }\n",
              "\n",
              "    .dataframe tbody tr th {\n",
              "        vertical-align: top;\n",
              "    }\n",
              "\n",
              "    .dataframe thead th {\n",
              "        text-align: right;\n",
              "    }\n",
              "</style>\n",
              "<table border=\"1\" class=\"dataframe\">\n",
              "  <thead>\n",
              "    <tr style=\"text-align: right;\">\n",
              "      <th></th>\n",
              "      <th>Open</th>\n",
              "      <th>High</th>\n",
              "      <th>Low</th>\n",
              "      <th>Close</th>\n",
              "      <th>Adj Close</th>\n",
              "      <th>Volume</th>\n",
              "    </tr>\n",
              "    <tr>\n",
              "      <th>Date</th>\n",
              "      <th></th>\n",
              "      <th></th>\n",
              "      <th></th>\n",
              "      <th></th>\n",
              "      <th></th>\n",
              "      <th></th>\n",
              "    </tr>\n",
              "  </thead>\n",
              "  <tbody>\n",
              "    <tr>\n",
              "      <th>2012-01-03</th>\n",
              "      <td>14.621429</td>\n",
              "      <td>14.732143</td>\n",
              "      <td>14.607143</td>\n",
              "      <td>14.686786</td>\n",
              "      <td>12.482925</td>\n",
              "      <td>302220800</td>\n",
              "    </tr>\n",
              "    <tr>\n",
              "      <th>2012-01-04</th>\n",
              "      <td>14.642857</td>\n",
              "      <td>14.810000</td>\n",
              "      <td>14.617143</td>\n",
              "      <td>14.765714</td>\n",
              "      <td>12.550014</td>\n",
              "      <td>260022000</td>\n",
              "    </tr>\n",
              "    <tr>\n",
              "      <th>2012-01-05</th>\n",
              "      <td>14.819643</td>\n",
              "      <td>14.948214</td>\n",
              "      <td>14.738214</td>\n",
              "      <td>14.929643</td>\n",
              "      <td>12.689342</td>\n",
              "      <td>271269600</td>\n",
              "    </tr>\n",
              "    <tr>\n",
              "      <th>2012-01-06</th>\n",
              "      <td>14.991786</td>\n",
              "      <td>15.098214</td>\n",
              "      <td>14.972143</td>\n",
              "      <td>15.085714</td>\n",
              "      <td>12.821990</td>\n",
              "      <td>318292800</td>\n",
              "    </tr>\n",
              "    <tr>\n",
              "      <th>2012-01-09</th>\n",
              "      <td>15.196429</td>\n",
              "      <td>15.276786</td>\n",
              "      <td>15.048214</td>\n",
              "      <td>15.061786</td>\n",
              "      <td>12.801655</td>\n",
              "      <td>394024400</td>\n",
              "    </tr>\n",
              "    <tr>\n",
              "      <th>...</th>\n",
              "      <td>...</td>\n",
              "      <td>...</td>\n",
              "      <td>...</td>\n",
              "      <td>...</td>\n",
              "      <td>...</td>\n",
              "      <td>...</td>\n",
              "    </tr>\n",
              "    <tr>\n",
              "      <th>2019-12-10</th>\n",
              "      <td>67.150002</td>\n",
              "      <td>67.517502</td>\n",
              "      <td>66.464996</td>\n",
              "      <td>67.120003</td>\n",
              "      <td>65.565010</td>\n",
              "      <td>90420400</td>\n",
              "    </tr>\n",
              "    <tr>\n",
              "      <th>2019-12-11</th>\n",
              "      <td>67.202499</td>\n",
              "      <td>67.775002</td>\n",
              "      <td>67.125000</td>\n",
              "      <td>67.692497</td>\n",
              "      <td>66.124260</td>\n",
              "      <td>78756800</td>\n",
              "    </tr>\n",
              "    <tr>\n",
              "      <th>2019-12-12</th>\n",
              "      <td>66.945000</td>\n",
              "      <td>68.139999</td>\n",
              "      <td>66.830002</td>\n",
              "      <td>67.864998</td>\n",
              "      <td>66.292763</td>\n",
              "      <td>137310400</td>\n",
              "    </tr>\n",
              "    <tr>\n",
              "      <th>2019-12-13</th>\n",
              "      <td>67.864998</td>\n",
              "      <td>68.824997</td>\n",
              "      <td>67.732498</td>\n",
              "      <td>68.787498</td>\n",
              "      <td>67.193886</td>\n",
              "      <td>133587600</td>\n",
              "    </tr>\n",
              "    <tr>\n",
              "      <th>2019-12-16</th>\n",
              "      <td>69.250000</td>\n",
              "      <td>70.197502</td>\n",
              "      <td>69.245003</td>\n",
              "      <td>69.964996</td>\n",
              "      <td>68.344109</td>\n",
              "      <td>128186000</td>\n",
              "    </tr>\n",
              "  </tbody>\n",
              "</table>\n",
              "<p>2002 rows × 6 columns</p>\n",
              "</div>\n",
              "      <button class=\"colab-df-convert\" onclick=\"convertToInteractive('df-f7023bf9-7c9d-44cf-8556-18b74ec8a0eb')\"\n",
              "              title=\"Convert this dataframe to an interactive table.\"\n",
              "              style=\"display:none;\">\n",
              "\n",
              "  <svg xmlns=\"http://www.w3.org/2000/svg\" height=\"24px\"viewBox=\"0 0 24 24\"\n",
              "       width=\"24px\">\n",
              "    <path d=\"M0 0h24v24H0V0z\" fill=\"none\"/>\n",
              "    <path d=\"M18.56 5.44l.94 2.06.94-2.06 2.06-.94-2.06-.94-.94-2.06-.94 2.06-2.06.94zm-11 1L8.5 8.5l.94-2.06 2.06-.94-2.06-.94L8.5 2.5l-.94 2.06-2.06.94zm10 10l.94 2.06.94-2.06 2.06-.94-2.06-.94-.94-2.06-.94 2.06-2.06.94z\"/><path d=\"M17.41 7.96l-1.37-1.37c-.4-.4-.92-.59-1.43-.59-.52 0-1.04.2-1.43.59L10.3 9.45l-7.72 7.72c-.78.78-.78 2.05 0 2.83L4 21.41c.39.39.9.59 1.41.59.51 0 1.02-.2 1.41-.59l7.78-7.78 2.81-2.81c.8-.78.8-2.07 0-2.86zM5.41 20L4 18.59l7.72-7.72 1.47 1.35L5.41 20z\"/>\n",
              "  </svg>\n",
              "      </button>\n",
              "\n",
              "\n",
              "\n",
              "    <div id=\"df-225d7af3-a13d-40a8-bb8b-70c1ae7733f8\">\n",
              "      <button class=\"colab-df-quickchart\" onclick=\"quickchart('df-225d7af3-a13d-40a8-bb8b-70c1ae7733f8')\"\n",
              "              title=\"Suggest charts.\"\n",
              "              style=\"display:none;\">\n",
              "\n",
              "<svg xmlns=\"http://www.w3.org/2000/svg\" height=\"24px\"viewBox=\"0 0 24 24\"\n",
              "     width=\"24px\">\n",
              "    <g>\n",
              "        <path d=\"M19 3H5c-1.1 0-2 .9-2 2v14c0 1.1.9 2 2 2h14c1.1 0 2-.9 2-2V5c0-1.1-.9-2-2-2zM9 17H7v-7h2v7zm4 0h-2V7h2v10zm4 0h-2v-4h2v4z\"/>\n",
              "    </g>\n",
              "</svg>\n",
              "      </button>\n",
              "    </div>\n",
              "\n",
              "<style>\n",
              "  .colab-df-quickchart {\n",
              "    background-color: #E8F0FE;\n",
              "    border: none;\n",
              "    border-radius: 50%;\n",
              "    cursor: pointer;\n",
              "    display: none;\n",
              "    fill: #1967D2;\n",
              "    height: 32px;\n",
              "    padding: 0 0 0 0;\n",
              "    width: 32px;\n",
              "  }\n",
              "\n",
              "  .colab-df-quickchart:hover {\n",
              "    background-color: #E2EBFA;\n",
              "    box-shadow: 0px 1px 2px rgba(60, 64, 67, 0.3), 0px 1px 3px 1px rgba(60, 64, 67, 0.15);\n",
              "    fill: #174EA6;\n",
              "  }\n",
              "\n",
              "  [theme=dark] .colab-df-quickchart {\n",
              "    background-color: #3B4455;\n",
              "    fill: #D2E3FC;\n",
              "  }\n",
              "\n",
              "  [theme=dark] .colab-df-quickchart:hover {\n",
              "    background-color: #434B5C;\n",
              "    box-shadow: 0px 1px 3px 1px rgba(0, 0, 0, 0.15);\n",
              "    filter: drop-shadow(0px 1px 2px rgba(0, 0, 0, 0.3));\n",
              "    fill: #FFFFFF;\n",
              "  }\n",
              "</style>\n",
              "\n",
              "    <script>\n",
              "      async function quickchart(key) {\n",
              "        const containerElement = document.querySelector('#' + key);\n",
              "        const charts = await google.colab.kernel.invokeFunction(\n",
              "            'suggestCharts', [key], {});\n",
              "      }\n",
              "    </script>\n",
              "\n",
              "      <script>\n",
              "\n",
              "function displayQuickchartButton(domScope) {\n",
              "  let quickchartButtonEl =\n",
              "    domScope.querySelector('#df-225d7af3-a13d-40a8-bb8b-70c1ae7733f8 button.colab-df-quickchart');\n",
              "  quickchartButtonEl.style.display =\n",
              "    google.colab.kernel.accessAllowed ? 'block' : 'none';\n",
              "}\n",
              "\n",
              "        displayQuickchartButton(document);\n",
              "      </script>\n",
              "      <style>\n",
              "    .colab-df-container {\n",
              "      display:flex;\n",
              "      flex-wrap:wrap;\n",
              "      gap: 12px;\n",
              "    }\n",
              "\n",
              "    .colab-df-convert {\n",
              "      background-color: #E8F0FE;\n",
              "      border: none;\n",
              "      border-radius: 50%;\n",
              "      cursor: pointer;\n",
              "      display: none;\n",
              "      fill: #1967D2;\n",
              "      height: 32px;\n",
              "      padding: 0 0 0 0;\n",
              "      width: 32px;\n",
              "    }\n",
              "\n",
              "    .colab-df-convert:hover {\n",
              "      background-color: #E2EBFA;\n",
              "      box-shadow: 0px 1px 2px rgba(60, 64, 67, 0.3), 0px 1px 3px 1px rgba(60, 64, 67, 0.15);\n",
              "      fill: #174EA6;\n",
              "    }\n",
              "\n",
              "    [theme=dark] .colab-df-convert {\n",
              "      background-color: #3B4455;\n",
              "      fill: #D2E3FC;\n",
              "    }\n",
              "\n",
              "    [theme=dark] .colab-df-convert:hover {\n",
              "      background-color: #434B5C;\n",
              "      box-shadow: 0px 1px 3px 1px rgba(0, 0, 0, 0.15);\n",
              "      filter: drop-shadow(0px 1px 2px rgba(0, 0, 0, 0.3));\n",
              "      fill: #FFFFFF;\n",
              "    }\n",
              "  </style>\n",
              "\n",
              "      <script>\n",
              "        const buttonEl =\n",
              "          document.querySelector('#df-f7023bf9-7c9d-44cf-8556-18b74ec8a0eb button.colab-df-convert');\n",
              "        buttonEl.style.display =\n",
              "          google.colab.kernel.accessAllowed ? 'block' : 'none';\n",
              "\n",
              "        async function convertToInteractive(key) {\n",
              "          const element = document.querySelector('#df-f7023bf9-7c9d-44cf-8556-18b74ec8a0eb');\n",
              "          const dataTable =\n",
              "            await google.colab.kernel.invokeFunction('convertToInteractive',\n",
              "                                                     [key], {});\n",
              "          if (!dataTable) return;\n",
              "\n",
              "          const docLinkHtml = 'Like what you see? Visit the ' +\n",
              "            '<a target=\"_blank\" href=https://colab.research.google.com/notebooks/data_table.ipynb>data table notebook</a>'\n",
              "            + ' to learn more about interactive tables.';\n",
              "          element.innerHTML = '';\n",
              "          dataTable['output_type'] = 'display_data';\n",
              "          await google.colab.output.renderOutput(dataTable, element);\n",
              "          const docLink = document.createElement('div');\n",
              "          docLink.innerHTML = docLinkHtml;\n",
              "          element.appendChild(docLink);\n",
              "        }\n",
              "      </script>\n",
              "    </div>\n",
              "  </div>\n"
            ]
          },
          "metadata": {},
          "execution_count": 3
        }
      ]
    },
    {
      "cell_type": "code",
      "source": [
        "# Defining the training Length\n",
        "\n",
        "# Create a new dataframe with only Close Column\n",
        "data = df.filter(['Close'])\n",
        "\n",
        "#Convert the dataframe to numpy array\n",
        "dataset = data.values\n",
        "\n",
        "# Get the number of rows to train the model on\n",
        "training_data_len = math.ceil(len(dataset)*.8) # take 80% of the data and math.ceil used to round up the number of data\n",
        "\n",
        "#Printing the number of training data\n",
        "print(training_data_len)"
      ],
      "metadata": {
        "colab": {
          "base_uri": "https://localhost:8080/"
        },
        "id": "dfdL_tPZvWC6",
        "outputId": "27b642c8-14ed-410d-b223-be28d395eed4"
      },
      "execution_count": null,
      "outputs": [
        {
          "output_type": "stream",
          "name": "stdout",
          "text": [
            "1602\n"
          ]
        }
      ]
    },
    {
      "cell_type": "code",
      "source": [
        "# Initialize Scaler\n",
        "scaler_close = MinMaxScaler()\n"
      ],
      "metadata": {
        "id": "kd8NxtNaveCY"
      },
      "execution_count": null,
      "outputs": []
    },
    {
      "cell_type": "code",
      "source": [
        "# Scaling the data\n",
        "scaled_data_close = scaler_close.fit_transform(dataset)"
      ],
      "metadata": {
        "id": "QDbjE98nvvuJ"
      },
      "execution_count": null,
      "outputs": []
    },
    {
      "cell_type": "code",
      "source": [
        "sc_data_close  = []\n",
        "for i in scaled_data_close:\n",
        "  sc_data_close.append(i.tolist()[0])\n"
      ],
      "metadata": {
        "id": "gmZirglh4Olk"
      },
      "execution_count": null,
      "outputs": []
    },
    {
      "cell_type": "code",
      "source": [
        "sc_data_close[0:3]"
      ],
      "metadata": {
        "colab": {
          "base_uri": "https://localhost:8080/"
        },
        "id": "ehSveDRV4Y2I",
        "outputId": "b58d87ba-6b06-465b-8c10-d261e7e6419f"
      },
      "execution_count": null,
      "outputs": [
        {
          "output_type": "execute_result",
          "data": {
            "text/plain": [
              "[0.013197402961684368, 0.014606391211013148, 0.0175327802319844]"
            ]
          },
          "metadata": {},
          "execution_count": 8
        }
      ]
    },
    {
      "cell_type": "code",
      "source": [
        "sc_data_close[0]"
      ],
      "metadata": {
        "colab": {
          "base_uri": "https://localhost:8080/"
        },
        "id": "PbjjdCal3n22",
        "outputId": "5dc4bf07-23c0-40c0-a35c-4ce71c161750"
      },
      "execution_count": null,
      "outputs": [
        {
          "output_type": "execute_result",
          "data": {
            "text/plain": [
              "0.013197402961684368"
            ]
          },
          "metadata": {},
          "execution_count": 9
        }
      ]
    },
    {
      "cell_type": "code",
      "source": [
        "input_sequence_length = 25"
      ],
      "metadata": {
        "id": "C-PeLZs2u7If"
      },
      "execution_count": null,
      "outputs": []
    },
    {
      "cell_type": "code",
      "source": [
        "sc_data_close[8] , sc_data_close[7]"
      ],
      "metadata": {
        "colab": {
          "base_uri": "https://localhost:8080/"
        },
        "id": "AWZGVm5qxKAU",
        "outputId": "a29066be-a536-40b3-8a1b-a9a961632787"
      },
      "execution_count": null,
      "outputs": [
        {
          "output_type": "execute_result",
          "data": {
            "text/plain": [
              "(0.01866762167747882, 0.01967496604702984)"
            ]
          },
          "metadata": {},
          "execution_count": 11
        }
      ]
    },
    {
      "cell_type": "code",
      "source": [
        "# Split the data into x_train and y_train data sets\n",
        "x_train = []\n",
        "y_train = []\n",
        "\n",
        "\n",
        "for i in range(input_sequence_length,len(sc_data_close)):\n",
        "  x_train.append(sc_data_close[i-input_sequence_length:i])\n",
        "  y_train.append(int((np.where(sc_data_close[i] > sc_data_close[i-1], 1, 0))))\n",
        "\n"
      ],
      "metadata": {
        "id": "Kgpc5vzdumhw"
      },
      "execution_count": null,
      "outputs": []
    },
    {
      "cell_type": "code",
      "source": [
        "x_train[0],y_train[0]"
      ],
      "metadata": {
        "colab": {
          "base_uri": "https://localhost:8080/"
        },
        "id": "7PEBfX6zsAxX",
        "outputId": "e0e5f200-717b-47bc-8d68-2bb681735e41"
      },
      "execution_count": null,
      "outputs": [
        {
          "output_type": "execute_result",
          "data": {
            "text/plain": [
              "([0.013197402961684368,\n",
              "  0.014606391211013148,\n",
              "  0.0175327802319844,\n",
              "  0.020318903742380545,\n",
              "  0.019891740017918713,\n",
              "  0.020854445939997024,\n",
              "  0.02041453080548289,\n",
              "  0.01967496604702984,\n",
              "  0.01866762167747882,\n",
              "  0.02178528184923434,\n",
              "  0.024596908179735033,\n",
              "  0.02372982932075912,\n",
              "  0.018980022711470035,\n",
              "  0.02351305534987025,\n",
              "  0.019050163979047352,\n",
              "  0.035786006619633215,\n",
              "  0.034491781060774995,\n",
              "  0.03618130033125405,\n",
              "  0.03983448567604658,\n",
              "  0.042046795734089815,\n",
              "  0.04186190880062146,\n",
              "  0.04117973389969343,\n",
              "  0.04408698729329652,\n",
              "  0.04682208813890393,\n",
              "  0.04992062970787081],\n",
              " 1)"
            ]
          },
          "metadata": {},
          "execution_count": 13
        }
      ]
    },
    {
      "cell_type": "code",
      "source": [
        "len(x_train),len(y_train)"
      ],
      "metadata": {
        "colab": {
          "base_uri": "https://localhost:8080/"
        },
        "id": "rCWMkF_zx8tR",
        "outputId": "c0fced3f-79d6-4241-9373-c6f4ed62d186"
      },
      "execution_count": null,
      "outputs": [
        {
          "output_type": "execute_result",
          "data": {
            "text/plain": [
              "(1977, 1977)"
            ]
          },
          "metadata": {},
          "execution_count": 14
        }
      ]
    },
    {
      "cell_type": "code",
      "source": [
        "sc_data_close[6:8],x_train[0],y_train[0]"
      ],
      "metadata": {
        "colab": {
          "base_uri": "https://localhost:8080/"
        },
        "id": "sXJxa-53z9U8",
        "outputId": "2608f1b0-6cb5-481b-bfe6-e05a4314125e"
      },
      "execution_count": null,
      "outputs": [
        {
          "output_type": "execute_result",
          "data": {
            "text/plain": [
              "([0.02041453080548289, 0.01967496604702984],\n",
              " [0.013197402961684368,\n",
              "  0.014606391211013148,\n",
              "  0.0175327802319844,\n",
              "  0.020318903742380545,\n",
              "  0.019891740017918713,\n",
              "  0.020854445939997024,\n",
              "  0.02041453080548289,\n",
              "  0.01967496604702984,\n",
              "  0.01866762167747882,\n",
              "  0.02178528184923434,\n",
              "  0.024596908179735033,\n",
              "  0.02372982932075912,\n",
              "  0.018980022711470035,\n",
              "  0.02351305534987025,\n",
              "  0.019050163979047352,\n",
              "  0.035786006619633215,\n",
              "  0.034491781060774995,\n",
              "  0.03618130033125405,\n",
              "  0.03983448567604658,\n",
              "  0.042046795734089815,\n",
              "  0.04186190880062146,\n",
              "  0.04117973389969343,\n",
              "  0.04408698729329652,\n",
              "  0.04682208813890393,\n",
              "  0.04992062970787081],\n",
              " 1)"
            ]
          },
          "metadata": {},
          "execution_count": 15
        }
      ]
    },
    {
      "cell_type": "code",
      "source": [
        "scaled_data_close[7:9],x_train[1],y_train[1]"
      ],
      "metadata": {
        "colab": {
          "base_uri": "https://localhost:8080/"
        },
        "id": "eApGH8ku0cbQ",
        "outputId": "5f1f5051-bcb6-4b70-f423-b04a429fc976"
      },
      "execution_count": null,
      "outputs": [
        {
          "output_type": "execute_result",
          "data": {
            "text/plain": [
              "(array([[0.01967497],\n",
              "        [0.01866762]]),\n",
              " [0.014606391211013148,\n",
              "  0.0175327802319844,\n",
              "  0.020318903742380545,\n",
              "  0.019891740017918713,\n",
              "  0.020854445939997024,\n",
              "  0.02041453080548289,\n",
              "  0.01967496604702984,\n",
              "  0.01866762167747882,\n",
              "  0.02178528184923434,\n",
              "  0.024596908179735033,\n",
              "  0.02372982932075912,\n",
              "  0.018980022711470035,\n",
              "  0.02351305534987025,\n",
              "  0.019050163979047352,\n",
              "  0.035786006619633215,\n",
              "  0.034491781060774995,\n",
              "  0.03618130033125405,\n",
              "  0.03983448567604658,\n",
              "  0.042046795734089815,\n",
              "  0.04186190880062146,\n",
              "  0.04117973389969343,\n",
              "  0.04408698729329652,\n",
              "  0.04682208813890393,\n",
              "  0.04992062970787081,\n",
              "  0.0549254474936261],\n",
              " 1)"
            ]
          },
          "metadata": {},
          "execution_count": 16
        }
      ]
    },
    {
      "cell_type": "code",
      "source": [
        "# Import the libraries\n",
        "from sklearn.svm import SVC\n",
        "from sklearn.model_selection import train_test_split,GridSearchCV\n",
        "from sklearn.metrics import accuracy_score\n"
      ],
      "metadata": {
        "id": "99OuvDbb0tlU"
      },
      "execution_count": null,
      "outputs": []
    },
    {
      "cell_type": "code",
      "source": [
        "# Split the data into training and testing sets\n",
        "X_train, X_test, Y_train, Y_test = train_test_split(x_train, y_train, test_size=0.2, random_state=42)\n"
      ],
      "metadata": {
        "id": "RweKbQt31mtP"
      },
      "execution_count": null,
      "outputs": []
    },
    {
      "cell_type": "markdown",
      "source": [
        "# Support Vector Machine"
      ],
      "metadata": {
        "id": "1Jb2rLvE85qY"
      }
    },
    {
      "cell_type": "code",
      "source": [
        "param_grid = {\n",
        "    'C': [0.1, 1, 10, 100],\n",
        "    'kernel': ['linear', 'rbf', 'poly'],\n",
        "    'gamma': ['scale', 'auto']\n",
        "}\n",
        "\n",
        "# Create an SVM classifier\n",
        "svm = SVC()\n",
        "\n",
        "# Perform grid search to find the best parameters\n",
        "grid_search = GridSearchCV(estimator=svm, param_grid=param_grid, cv=5)\n",
        "grid_search.fit(X_train, Y_train)\n",
        "\n",
        "# Get the best parameters and best score from grid search\n",
        "best_params = grid_search.best_params_\n",
        "best_score = grid_search.best_score_\n",
        "\n",
        "# Train the SVM classifier with the best parameters\n",
        "svm_best = SVC(**best_params)\n",
        "svm_best.fit(X_train, Y_train)\n",
        "\n",
        "# Make predictions on the test set\n",
        "y_pred = svm_best.predict(X_test)\n",
        "\n",
        "# Calculate accuracy\n",
        "accuracy = accuracy_score(Y_test, y_pred)\n",
        "print(\"Best Parameters:\", best_params)\n",
        "print(\"Best Score:\", best_score)\n",
        "print(\"Accuracy:\", accuracy)"
      ],
      "metadata": {
        "colab": {
          "base_uri": "https://localhost:8080/"
        },
        "id": "d-fRDhPa6kHF",
        "outputId": "0cdcfb67-1f03-4b1c-d42c-34e1acce64fb"
      },
      "execution_count": null,
      "outputs": [
        {
          "output_type": "stream",
          "name": "stdout",
          "text": [
            "Best Parameters: {'C': 100, 'gamma': 'scale', 'kernel': 'poly'}\n",
            "Best Score: 0.5154953480014376\n",
            "Accuracy: 0.5555555555555556\n"
          ]
        }
      ]
    },
    {
      "cell_type": "markdown",
      "source": [
        "# Logistic Regression"
      ],
      "metadata": {
        "id": "o4n8Cvwo2r0s"
      }
    },
    {
      "cell_type": "code",
      "source": [
        "from sklearn.linear_model import LogisticRegression"
      ],
      "metadata": {
        "id": "gkCFBEy59c3E"
      },
      "execution_count": null,
      "outputs": []
    },
    {
      "cell_type": "code",
      "source": [
        "# Remove Warnings\n",
        "import warnings\n",
        "warnings.filterwarnings(\"ignore\")"
      ],
      "metadata": {
        "id": "O4XPLpZT-KIC"
      },
      "execution_count": null,
      "outputs": []
    },
    {
      "cell_type": "code",
      "source": [
        "# Define the parameter grid for grid search\n",
        "param_grid = {\n",
        "    'C': [0.1, 1, 10],\n",
        "    'solver': ['newton-cg', 'lbfgs', 'liblinear', 'sag', 'saga']\n",
        "}\n",
        "\n",
        "# Create a logistic regression classifier\n",
        "logreg = LogisticRegression()\n",
        "\n",
        "# Perform grid search to find the best parameters\n",
        "grid_search = GridSearchCV(estimator=logreg, param_grid=param_grid, cv=5)\n",
        "grid_search.fit(X_train, Y_train)\n",
        "\n",
        "# Get the best parameters and best score from grid search\n",
        "best_params = grid_search.best_params_\n",
        "best_score = grid_search.best_score_\n",
        "\n",
        "# Train the logistic regression classifier with the best parameters\n",
        "logreg_best = LogisticRegression(**best_params)\n",
        "logreg_best.fit(X_train, Y_train)\n",
        "\n",
        "# Make predictions on the test set\n",
        "y_pred = logreg_best.predict(X_test)\n",
        "\n",
        "# Calculate accuracy\n",
        "accuracy = accuracy_score(Y_test, y_pred)\n",
        "print(\"Best Parameters:\", best_params)\n",
        "print(\"Best Score:\", best_score)\n",
        "print(\"Accuracy:\", accuracy)"
      ],
      "metadata": {
        "colab": {
          "base_uri": "https://localhost:8080/"
        },
        "id": "2shy405j9ETo",
        "outputId": "5f09eeda-b3e6-45ca-c347-55bd459a9223"
      },
      "execution_count": null,
      "outputs": [
        {
          "output_type": "stream",
          "name": "stdout",
          "text": [
            "Best Parameters: {'C': 10, 'solver': 'newton-cg'}\n",
            "Best Score: 0.5161402387892824\n",
            "Accuracy: 0.5050505050505051\n"
          ]
        }
      ]
    },
    {
      "cell_type": "markdown",
      "source": [
        "# Random Forest Classifier\n"
      ],
      "metadata": {
        "id": "wBqEOW0n_5lP"
      }
    },
    {
      "cell_type": "code",
      "source": [
        "# Import RandomForestClassifier\n",
        "from sklearn.ensemble import RandomForestClassifier"
      ],
      "metadata": {
        "id": "lQhx5aEz_-hB"
      },
      "execution_count": null,
      "outputs": []
    },
    {
      "cell_type": "code",
      "source": [
        "# Define the parameter grid for grid search\n",
        "param_grid = {\n",
        "    'n_estimators': [100, 200, 300],\n",
        "    'max_depth': [None, 5, 10],\n",
        "    'min_samples_split': [2, 5, 10],\n",
        "    'min_samples_leaf': [1, 2, 4],\n",
        "    'max_features': ['auto', 'sqrt']\n",
        "}\n",
        "\n",
        "# Create a Random Forest classifier\n",
        "rf = RandomForestClassifier()\n",
        "\n",
        "# Perform grid search to find the best parameters\n",
        "grid_search = GridSearchCV(estimator=rf, param_grid=param_grid, cv=5)\n",
        "grid_search.fit(X_train, Y_train)\n",
        "\n",
        "# Get the best parameters and best score from grid search\n",
        "best_params = grid_search.best_params_\n",
        "best_score = grid_search.best_score_\n",
        "\n",
        "# Train the Random Forest classifier with the best parameters\n",
        "rf_best = RandomForestClassifier(**best_params)\n",
        "rf_best.fit(X_train, Y_train)\n",
        "\n",
        "# Make predictions on the test set\n",
        "y_pred = rf_best.predict(X_test)\n",
        "\n",
        "# Calculate accuracy\n",
        "accuracy = accuracy_score(Y_test, y_pred)\n",
        "print(\"Best Parameters:\", best_params)\n",
        "print(\"Best Score:\", best_score)\n",
        "print(\"Accuracy:\", accuracy)"
      ],
      "metadata": {
        "colab": {
          "base_uri": "https://localhost:8080/"
        },
        "id": "dZ8EObu_-gWQ",
        "outputId": "49202a46-1844-4d9b-a77f-3b15f9d3eb92"
      },
      "execution_count": null,
      "outputs": [
        {
          "output_type": "stream",
          "name": "stdout",
          "text": [
            "Best Parameters: {'max_depth': None, 'max_features': 'auto', 'min_samples_leaf': 1, 'min_samples_split': 5, 'n_estimators': 300}\n",
            "Best Score: 0.48890907638861164\n",
            "Accuracy: 0.5075757575757576\n"
          ]
        }
      ]
    },
    {
      "cell_type": "markdown",
      "source": [
        "#LSTM model"
      ],
      "metadata": {
        "id": "r79KqMQwtYkp"
      }
    },
    {
      "cell_type": "code",
      "source": [
        "import numpy as np\n",
        "from keras.models import Sequential\n",
        "from keras.layers import LSTM, Dense\n",
        "from sklearn.model_selection import train_test_split\n",
        "from sklearn.preprocessing import StandardScaler\n",
        "from sklearn.model_selection import GridSearchCV\n",
        "from keras.wrappers.scikit_learn import KerasClassifier\n",
        "\n",
        "# Convert x_train and y_train to numpy array for train in keras library (convert in to correct data structure for Keras.)\n",
        "X1_train, Y1_train, X1_test, Y1_test = np.array(X_train),np.array(Y_train), np.array(X_test),np.array(Y_test)\n",
        "\n",
        "# LSTM Network expects that input to be three dimensional.\n",
        "# So we have to convert two dimensional data into Three dimensional data.\n",
        "# Reshape the data.\n",
        "X1_train = np.reshape(X1_train,(X1_train.shape[0],X1_train.shape[1],1))\n",
        "\n",
        "def create_model(units=32):\n",
        "    model = Sequential()\n",
        "    model.add(LSTM(units = units, return_sequences = True, input_shape =( X1_train.shape[1],1)))\n",
        "    model.add(LSTM(units = units, return_sequences = True))\n",
        "    model.add(LSTM(units=units))\n",
        "    model.add(Dense(units=1, activation='sigmoid'))\n",
        "    model.compile(optimizer='adam', loss='binary_crossentropy', metrics=['accuracy'])\n",
        "    return model\n",
        "# Create a KerasClassifier with tunable hyperparameters\n",
        "model = KerasClassifier(build_fn=create_model, verbose=0)\n",
        "\n",
        "# Define the hyperparameters to tune\n",
        "param_grid = {\n",
        "    'units': [16, 32, 64]  # Number of units in the LSTM layer\n",
        "}\n",
        "\n",
        "# Perform grid search with 5-fold cross-validation\n",
        "grid = GridSearchCV(estimator=model, param_grid=param_grid, cv=5)\n",
        "grid_result = grid.fit(X1_train, Y1_train, epochs = 50, batch_size = 32)\n",
        "\n",
        "# Print the best hyperparameters and the corresponding accuracy\n",
        "print(\"Best Hyperparameters: \", grid_result.best_params_)\n",
        "print(\"Best Accuracy: \", grid_result.best_score_)\n",
        "\n",
        "# Evaluate the best model on the test set\n",
        "best_model = grid_result.best_estimator_\n",
        "accuracy = best_model.score(X1_test, Y1_test)\n",
        "print(\"Test Accuracy: \", accuracy)"
      ],
      "metadata": {
        "colab": {
          "base_uri": "https://localhost:8080/"
        },
        "id": "aDtwds-Ptb6w",
        "outputId": "c7d2a41f-5b0b-4144-a1fa-c1e97945d000"
      },
      "execution_count": null,
      "outputs": [
        {
          "output_type": "stream",
          "name": "stdout",
          "text": [
            "Best Hyperparameters:  {'units': 32}\n",
            "Best Accuracy:  0.4895759284496307\n",
            "Test Accuracy:  0.5707070827484131\n"
          ]
        }
      ]
    },
    {
      "cell_type": "markdown",
      "source": [
        "# Naive Bayes\n"
      ],
      "metadata": {
        "id": "RQfHNVMWyoVx"
      }
    },
    {
      "cell_type": "code",
      "source": [
        "from sklearn.model_selection import GridSearchCV\n",
        "from sklearn.naive_bayes import GaussianNB\n",
        "from sklearn.metrics import accuracy_score\n",
        "\n",
        "# Create a GaussianNB classifier\n",
        "model = GaussianNB()\n",
        "\n",
        "# Define the hyperparameters to tune\n",
        "param_grid = {\n",
        "    'var_smoothing': [1e-9, 1e-8, 1e-7, 1e-6, 1e-5]}\n",
        "\n",
        "# Create GridSearchCV object\n",
        "grid_search = GridSearchCV(model, param_grid, cv=5)\n",
        "\n",
        "# Model training and hyperparameter tuning\n",
        "grid_search.fit(X_train, Y_train)\n",
        "\n",
        "# Get the best model and predict on test data\n",
        "best_model = grid_search.best_estimator_\n",
        "y_pred = best_model.predict(X_test)\n",
        "\n",
        "# Calculate accuracy\n",
        "accuracy = accuracy_score(y_pred, Y_test)\n",
        "print('Best parameters:', grid_search.best_params_)\n",
        "print('Accuracy:', accuracy)"
      ],
      "metadata": {
        "colab": {
          "base_uri": "https://localhost:8080/"
        },
        "id": "ym6flqjgytbI",
        "outputId": "422a547c-b815-4ac1-d1d9-1401830250a4"
      },
      "execution_count": null,
      "outputs": [
        {
          "output_type": "stream",
          "name": "stdout",
          "text": [
            "Best parameters: {'var_smoothing': 1e-09}\n",
            "Accuracy: 0.4772727272727273\n"
          ]
        }
      ]
    },
    {
      "cell_type": "markdown",
      "source": [],
      "metadata": {
        "id": "8vJppxWPIqdL"
      }
    },
    {
      "cell_type": "markdown",
      "source": [
        "# Gradient Boosting Classifier"
      ],
      "metadata": {
        "id": "ipZinqhQ18jk"
      }
    },
    {
      "cell_type": "code",
      "source": [
        "from sklearn.ensemble import GradientBoostingClassifier\n",
        "from sklearn.model_selection import GridSearchCV\n",
        "from sklearn.metrics import accuracy_score\n",
        "\n",
        "# Define the Gradient Boosting Classifier\n",
        "model = GradientBoostingClassifier()\n",
        "\n",
        "# Define the hyperparameter grid for Grid Search\n",
        "param_grid = {\n",
        "    'n_estimators': [50, 100, 150],          # Number of boosting stages\n",
        "    'learning_rate': [0.1, 0.05, 0.01],      # Step size shrinkage\n",
        "    'max_depth': [3, 4, 5],                  # Maximum depth of the individual trees\n",
        "}\n",
        "\n",
        "# Create the Grid Search Cross-Validation object\n",
        "grid_search = GridSearchCV(model, param_grid, cv=5, n_jobs=-1)\n",
        "\n",
        "# Model training and hyperparameter tuning\n",
        "grid_search.fit(X_train, Y_train)\n",
        "\n",
        "# Get the best model and its hyperparameters\n",
        "best_model = grid_search.best_estimator_\n",
        "best_params = grid_search.best_params_\n",
        "\n",
        "# Predict on the test set using the best model\n",
        "y_pred = best_model.predict(X_test)\n",
        "\n",
        "# Calculate accuracy\n",
        "accuracy = accuracy_score(y_pred, Y_test)\n",
        "\n",
        "print('Best Hyperparameters:', best_params)\n",
        "print('Best Accuracy:', accuracy)"
      ],
      "metadata": {
        "colab": {
          "base_uri": "https://localhost:8080/"
        },
        "id": "VZHJQkfL2A2H",
        "outputId": "9fc1f471-36cc-47c2-cca8-8afbf023c263"
      },
      "execution_count": null,
      "outputs": [
        {
          "output_type": "stream",
          "name": "stdout",
          "text": [
            "Best Hyperparameters: {'learning_rate': 0.01, 'max_depth': 3, 'n_estimators': 50}\n",
            "Best Accuracy: 0.5429292929292929\n"
          ]
        }
      ]
    },
    {
      "cell_type": "markdown",
      "source": [
        "# Decision Tree"
      ],
      "metadata": {
        "id": "hKSsZxhN2iVZ"
      }
    },
    {
      "cell_type": "code",
      "source": [
        "from sklearn.tree import DecisionTreeClassifier\n",
        "from sklearn.model_selection import GridSearchCV\n",
        "from sklearn.metrics import accuracy_score\n",
        "\n",
        "# Define the Decision Tree Classifier\n",
        "model = DecisionTreeClassifier()\n",
        "\n",
        "# Define the hyperparameter grid for Grid Search\n",
        "param_grid = {\n",
        "    'criterion': ['gini', 'entropy'],        # Splitting criterion\n",
        "    'max_depth': [None, 5, 10, 20],          # Maximum depth of the tree\n",
        "    'min_samples_split': [2, 5, 10],         # Minimum number of samples required to split an internal node\n",
        "    'min_samples_leaf': [1, 2, 4]            # Minimum number of samples required to be at a leaf node\n",
        "}\n",
        "\n",
        "# Create the Grid Search Cross-Validation object\n",
        "grid_search = GridSearchCV(model, param_grid, cv=5, n_jobs=-1)\n",
        "\n",
        "# Model training and hyperparameter tuning\n",
        "grid_search.fit(X_train, Y_train)\n",
        "\n",
        "# Get the best model and its hyperparameters\n",
        "best_model = grid_search.best_estimator_\n",
        "best_params = grid_search.best_params_\n",
        "\n",
        "# Predict on the test set using the best model\n",
        "y_pred = best_model.predict(X_test)\n",
        "\n",
        "# Calculate accuracy\n",
        "accuracy = accuracy_score(y_pred, Y_test)\n",
        "\n",
        "print('Best Hyperparameters:', best_params)\n",
        "print('Best Accuracy:', accuracy)"
      ],
      "metadata": {
        "colab": {
          "base_uri": "https://localhost:8080/"
        },
        "id": "rp2IckLd2HwX",
        "outputId": "61108a2f-04c7-4540-d033-a29468ab9f00"
      },
      "execution_count": null,
      "outputs": [
        {
          "output_type": "stream",
          "name": "stdout",
          "text": [
            "Best Hyperparameters: {'criterion': 'entropy', 'max_depth': 5, 'min_samples_leaf': 2, 'min_samples_split': 5}\n",
            "Best Accuracy: 0.5631313131313131\n"
          ]
        }
      ]
    },
    {
      "cell_type": "markdown",
      "source": [
        "# Artificial Neural Network"
      ],
      "metadata": {
        "id": "P5e5kVzB34d2"
      }
    },
    {
      "cell_type": "code",
      "source": [
        "import numpy as np\n",
        "from keras.models import Sequential\n",
        "from keras.layers import Dense\n",
        "from sklearn.model_selection import train_test_split\n",
        "from sklearn.preprocessing import StandardScaler\n",
        "from sklearn.model_selection import GridSearchCV\n",
        "from keras.wrappers.scikit_learn import KerasClassifier\n",
        "\n",
        "# Convert x_train and y_train to numpy array for train in keras library (convert in to correct data structure for Keras.)\n",
        "X1_train, Y1_train, X1_test, Y1_test = np.array(X_train),np.array(Y_train), np.array(X_test),np.array(Y_test)\n",
        "\n",
        "# Function to create ANN model\n",
        "def create_model(units=32, activation='relu'):\n",
        "    model = Sequential()\n",
        "    model.add(Dense(units=units, activation=activation, input_dim=X1_train.shape[1]))\n",
        "    model.add(Dense(units=units, activation=activation))\n",
        "    model.add(Dense(units=1, activation='sigmoid'))\n",
        "    model.compile(optimizer='adam', loss='binary_crossentropy', metrics=['accuracy'])\n",
        "    return model\n",
        "\n",
        "# Create a KerasClassifier with tunable hyperparameters\n",
        "model = KerasClassifier(build_fn=create_model, verbose=0)\n",
        "\n",
        "# Define the hyperparameters to tune\n",
        "param_grid = {\n",
        "    'units': [16, 32, 64],  # Number of units in the hidden layer\n",
        "    'activation': ['relu', 'tanh']  # Activation function\n",
        "}\n",
        "\n",
        "# Perform grid search with 5-fold cross-validation\n",
        "grid = GridSearchCV(estimator=model, param_grid=param_grid, cv=5)\n",
        "grid_result = grid.fit(X1_train, Y1_train)\n",
        "\n",
        "# Print the best hyperparameters and the corresponding accuracy\n",
        "print(\"Best Hyperparameters: \", grid_result.best_params_)\n",
        "print(\"Best Accuracy: \", grid_result.best_score_)\n",
        "\n",
        "# Evaluate the best model on the test set\n",
        "best_model = grid_result.best_estimator_\n",
        "accuracy = best_model.score(X1_test, Y1_test)\n",
        "print(\"Test Accuracy: \", accuracy)\n"
      ],
      "metadata": {
        "colab": {
          "base_uri": "https://localhost:8080/"
        },
        "id": "iC917QAf4AGK",
        "outputId": "e491bc80-8751-415e-cfee-d6c42b0f7a19"
      },
      "execution_count": null,
      "outputs": [
        {
          "output_type": "stream",
          "name": "stdout",
          "text": [
            "Best Hyperparameters:  {'activation': 'relu', 'units': 32}\n",
            "Best Accuracy:  0.5136265575885772\n",
            "Test Accuracy:  0.5656565427780151\n"
          ]
        }
      ]
    },
    {
      "cell_type": "markdown",
      "source": [
        "# Convolution Neural Network"
      ],
      "metadata": {
        "id": "6QYOKLTsjyCk"
      }
    },
    {
      "cell_type": "code",
      "source": [
        "import numpy as np\n",
        "from keras.models import Sequential\n",
        "from keras.layers import Conv1D, MaxPooling1D, Flatten, Dense\n",
        "from sklearn.model_selection import train_test_split\n",
        "from sklearn.preprocessing import StandardScaler\n",
        "from sklearn.model_selection import GridSearchCV\n",
        "from keras.wrappers.scikit_learn import KerasClassifier\n",
        "\n",
        "# Convert x_train and y_train to numpy array for train in keras library (convert in to correct data structure for Keras.)\n",
        "X1_train, Y1_train, X1_test, Y1_test = np.array(X_train), np.array(Y_train), np.array(X_test), np.array(Y_test)\n",
        "\n",
        "# Function to create CNN model\n",
        "def create_model(filters=32, kernel_size=3):\n",
        "    model = Sequential()\n",
        "    model.add(Conv1D(filters=filters, kernel_size=kernel_size, activation='relu', input_shape=(X1_train.shape[1], 1)))\n",
        "    model.add(MaxPooling1D(pool_size=2))\n",
        "    model.add(Flatten())\n",
        "    model.add(Dense(units=1, activation='sigmoid'))\n",
        "    model.compile(optimizer='adam', loss='binary_crossentropy', metrics=['accuracy'])\n",
        "    return model\n",
        "\n",
        "# Create a KerasClassifier with tunable hyperparameters\n",
        "model = KerasClassifier(build_fn=create_model, verbose=0)\n",
        "\n",
        "# Define the hyperparameters to tune\n",
        "param_grid = {\n",
        "    'filters': [16, 32, 64],     # Number of filters in the Conv1D layer\n",
        "    'kernel_size': [3, 5, 7]     # Size of the convolutional kernel\n",
        "}\n",
        "\n",
        "# Perform grid search with 5-fold cross-validation\n",
        "grid = GridSearchCV(estimator=model, param_grid=param_grid, cv=5)\n",
        "grid_result = grid.fit(X1_train, Y1_train)\n",
        "\n",
        "# Print the best hyperparameters and the corresponding accuracy\n",
        "print(\"Best Hyperparameters: \", grid_result.best_params_)\n",
        "print(\"Best Accuracy: \", grid_result.best_score_)\n",
        "\n",
        "# Evaluate the best model on the test set\n",
        "best_model = grid_result.best_estimator_\n",
        "accuracy = best_model.score(X1_test, Y1_test)\n",
        "print(\"Test Accuracy: \", accuracy)"
      ],
      "metadata": {
        "colab": {
          "base_uri": "https://localhost:8080/"
        },
        "id": "OeIUklH1h4II",
        "outputId": "d1ce56aa-842a-4e7b-8669-1cfd8cff9df4"
      },
      "execution_count": null,
      "outputs": [
        {
          "output_type": "stream",
          "name": "stdout",
          "text": [
            "Best Hyperparameters:  {'filters': 16, 'kernel_size': 5}\n",
            "Best Accuracy:  0.5022341668605804\n",
            "Test Accuracy:  0.5707070827484131\n"
          ]
        }
      ]
    }
  ]
}